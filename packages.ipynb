{
 "cells": [
  {
   "cell_type": "code",
   "execution_count": 1,
   "id": "8187904a-cca5-431c-9aa6-adf34fb5ee6d",
   "metadata": {},
   "outputs": [
    {
     "data": {
      "application/vnd.jupyter.widget-view+json": {
       "model_id": "8184825469424873859dc39bae78dd1c",
       "version_major": 2,
       "version_minor": 0
      },
      "text/plain": []
     },
     "metadata": {},
     "output_type": "display_data"
    }
   ],
   "source": [
    "from ase import Atom\n",
    "from ase import Atoms\n",
    "import nglview as nv\n",
    "from IPython.display import display\n",
    "import numpy as np\n",
    "from ase.io import read\n",
    "import ase.io\n",
    "import torch\n",
    "from torch_geometric.data import Data\n",
    "from ase.neighborlist import primitive_neighbor_list\n",
    "from sklearn.preprocessing import LabelEncoder\n",
    "from tqdm.notebook import trange\n",
    "from torch import nn\n",
    "from functools import partial\n",
    "from graphite.nn.basis import bessel"
   ]
  },
  {
   "cell_type": "code",
   "execution_count": 2,
   "id": "f9fa6468-f819-4c6e-9b8a-b57c42c97414",
   "metadata": {},
   "outputs": [],
   "source": [
    "def write_lammps_data_file(atoms, filename=\"mos2_0.8.lammps\"):\n",
    "    unique_atomic_numbers = sorted(set(atoms.numbers))\n",
    "    atomic_number_to_type = {num: idx + 1 for idx, num in enumerate(unique_atomic_numbers)}\n",
    "    \n",
    "    with open(filename, \"w\") as file:\n",
    "        # Write header information\n",
    "        file.write(\"ITEM: TIMESTEP\\n0\\n\")\n",
    "        file.write(\"ITEM: NUMBER OF ATOMS\\n\")\n",
    "        file.write(f\"{len(atoms)}\\n\")\n",
    "        file.write(\"ITEM: BOX BOUNDS pp pp pp\\n\")\n",
    "        for i in range(3):  # Assuming orthorhombic box for simplicity\n",
    "            bounds = (0, atoms.cell.lengths()[i])\n",
    "            file.write(f\"{bounds[0]} {bounds[1]}\\n\")\n",
    "        \n",
    "        # Write atoms section\n",
    "        file.write(\"ITEM: ATOMS type id x y z\\n\")\n",
    "        for i, atom in enumerate(atoms, start=1):\n",
    "            atom_type = atomic_number_to_type[atom.number]\n",
    "            file.write(f\"{atom_type} {i} {atom.position[0]} {atom.position[1]} {atom.position[2]}\\n\")"
   ]
  },
  {
   "cell_type": "code",
   "execution_count": 3,
   "id": "0bcd7cf1-6e7b-4be3-94d0-bd8becc7298d",
   "metadata": {},
   "outputs": [],
   "source": [
    "def ase_graph(data, cutoff):\n",
    "    i, j, D = primitive_neighbor_list('ijD', cutoff=cutoff, pbc=data.pbc, cell=data.cell, positions=data.pos.numpy(), numbers=data.numbers)\n",
    "    data.edge_index = torch.tensor(np.stack((i, j)), dtype=torch.long)\n",
    "    data.edge_attr = torch.tensor(D, dtype=torch.float)\n",
    "    return data"
   ]
  },
  {
   "cell_type": "code",
   "execution_count": 4,
   "id": "bac87747-068e-40d3-a8e8-fc83e43f33d0",
   "metadata": {},
   "outputs": [],
   "source": [
    "@torch.no_grad()\n",
    "def denoise_snapshot(atoms, model, scale=1.0, steps=8):\n",
    "    # Convert to PyG format\n",
    "    x = LabelEncoder().fit_transform(atoms.numbers)\n",
    "    data = Data(\n",
    "        x       = torch.tensor(x).long(),\n",
    "        pos     = torch.tensor(atoms.positions).float(),\n",
    "        cell    = atoms.cell,\n",
    "        pbc     = atoms.pbc,\n",
    "        numbers = atoms.numbers,\n",
    "    )\n",
    "    \n",
    "    # Scale\n",
    "    data.pos  *= scale\n",
    "    data.cell *= scale\n",
    "    \n",
    "    # Denoising trajectory\n",
    "    pos_traj = [atoms.positions]    \n",
    "    for _ in trange(steps):\n",
    "        data = ase_graph(data, cutoff=CUTOFF)\n",
    "        disp = model(data)\n",
    "        data.pos -= disp\n",
    "        pos_traj.append(data.pos.clone().numpy() / scale)\n",
    "    \n",
    "    return pos_traj"
   ]
  },
  {
   "cell_type": "code",
   "execution_count": 5,
   "id": "f0b390c8-e6e9-43df-a0d9-39fb1c8d8f12",
   "metadata": {},
   "outputs": [],
   "source": [
    "class InitialEmbedding(nn.Module):\n",
    "    def __init__(self, num_species, cutoff):\n",
    "        super().__init__()\n",
    "        self.embed_node_x = nn.Embedding(num_species, 8)\n",
    "        self.embed_node_z = nn.Embedding(num_species, 8)\n",
    "        self.embed_edge   = partial(bessel, start=0.0, end=cutoff, num_basis=16)\n",
    "    \n",
    "    def forward(self, data):\n",
    "        # Embed node\n",
    "        data.h_node_x = self.embed_node_x(data.x)\n",
    "        data.h_node_z = self.embed_node_z(data.x)\n",
    "\n",
    "        # Embed edge\n",
    "        data.h_edge = self.embed_edge(data.edge_attr.norm(dim=-1))\n",
    "        \n",
    "        return data"
   ]
  }
 ],
 "metadata": {
  "kernelspec": {
   "display_name": "Python (graphite)",
   "language": "python",
   "name": "graphite"
  },
  "language_info": {
   "codemirror_mode": {
    "name": "ipython",
    "version": 3
   },
   "file_extension": ".py",
   "mimetype": "text/x-python",
   "name": "python",
   "nbconvert_exporter": "python",
   "pygments_lexer": "ipython3",
   "version": "3.12.1"
  }
 },
 "nbformat": 4,
 "nbformat_minor": 5
}
